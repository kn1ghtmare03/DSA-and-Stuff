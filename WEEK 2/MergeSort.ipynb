{
 "cells": [
  {
   "cell_type": "code",
   "execution_count": 4,
   "metadata": {},
   "outputs": [
    {
     "data": {
      "text/plain": [
       "[-91871, 3, 5, 7, 8, 9, 16, 9071]"
      ]
     },
     "execution_count": 4,
     "metadata": {},
     "output_type": "execute_result"
    }
   ],
   "source": [
    "def merge(left,right):\n",
    "    result = []\n",
    "    i , j = 0,0\n",
    "    while i < len(left) and j < len(right):\n",
    "        if left[i] < right[j]:\n",
    "            result.append(left[i])\n",
    "            i += 1\n",
    "        else:\n",
    "            result.append(right[j])\n",
    "            j += 1\n",
    "    result += left[i:]\n",
    "    result += right[j:]\n",
    "    return result\n",
    "\n",
    "def mergeSort(lst):\n",
    "    if len(lst) <= 1:\n",
    "        return lst\n",
    "    mid = len(lst)//2\n",
    "    left = mergeSort(lst[:mid])\n",
    "    right = mergeSort(lst[mid:])\n",
    "    return merge(left,right)\n",
    "\n",
    "mergeSort([7,8,5,16,3,9,9071,-91871])\n",
    "\n",
    "             \n"
   ]
  },
  {
   "cell_type": "code",
   "execution_count": null,
   "metadata": {},
   "outputs": [],
   "source": []
  }
 ],
 "metadata": {
  "kernelspec": {
   "display_name": "base",
   "language": "python",
   "name": "python3"
  },
  "language_info": {
   "codemirror_mode": {
    "name": "ipython",
    "version": 3
   },
   "file_extension": ".py",
   "mimetype": "text/x-python",
   "name": "python",
   "nbconvert_exporter": "python",
   "pygments_lexer": "ipython3",
   "version": "3.9.7"
  },
  "orig_nbformat": 4
 },
 "nbformat": 4,
 "nbformat_minor": 2
}
