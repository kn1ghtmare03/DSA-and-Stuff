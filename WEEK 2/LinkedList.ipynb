{
 "cells": [
  {
   "cell_type": "code",
   "execution_count": 6,
   "metadata": {},
   "outputs": [
    {
     "name": "stdout",
     "output_type": "stream",
     "text": [
      "3 ->5 ->9 ->None\n"
     ]
    }
   ],
   "source": [
    "class LinkedListNode:\n",
    "    def __init__(self,value,nextNode=None):\n",
    "        self.value = value\n",
    "        self.nextNode = nextNode\n",
    "\n",
    "node1 = LinkedListNode(\"3\")\n",
    "node2 = LinkedListNode(\"5\")\n",
    "node3 = LinkedListNode(\"9\")\n",
    "\n",
    "node1.nextNode = node2\n",
    "node2.nextNode = node3\n",
    "\n",
    "currNode = node1\n",
    "while True:\n",
    "    print(currNode.value,'->',end = '')\n",
    "    if currNode.nextNode is None: \n",
    "        print(\"None\")\n",
    "        break\n",
    "    currNode = currNode.nextNode\n"
   ]
  },
  {
   "cell_type": "code",
   "execution_count": 10,
   "metadata": {},
   "outputs": [
    {
     "name": "stdout",
     "output_type": "stream",
     "text": [
      "None\n",
      "3 ->None\n",
      "3 ->4 ->None\n",
      "3 ->4 ->7 ->None\n"
     ]
    }
   ],
   "source": [
    "class LinkedListNode:\n",
    "    def __init__(self,value,nextNode=None):\n",
    "        self.value = value\n",
    "        self.nextNode = nextNode\n",
    "\n",
    "class LinkedList:\n",
    "    def __init__(self,head = None):\n",
    "            self.head = head\n",
    "    def insert(self,value):\n",
    "        node = LinkedListNode(value)\n",
    "        if self.head is None:\n",
    "            self.head = node \n",
    "            return\n",
    "        currNode = self.head\n",
    "        while True:\n",
    "            if currNode.nextNode == None:\n",
    "                currNode.nextNode = node\n",
    "                break\n",
    "            currNode = currNode.nextNode\n",
    "    def printlist(self):\n",
    "        currNode = self.head\n",
    "        while currNode is not None:\n",
    "            print(currNode.value ,\"->\",end=\"\")\n",
    "            currNode = currNode.nextNode\n",
    "        print(\"None\")\n",
    "\n",
    "ll = LinkedList()\n",
    "ll.printlist()\n",
    "ll.insert(\"3\")\n",
    "ll.printlist()\n",
    "ll.insert(\"4\")\n",
    "ll.printlist()\n",
    "ll.insert(\"7\")\n",
    "ll.printlist()\n",
    "              \n",
    "             \n"
   ]
  },
  {
   "cell_type": "code",
   "execution_count": 1,
   "metadata": {},
   "outputs": [
    {
     "name": "stdout",
     "output_type": "stream",
     "text": [
      "0 1\n",
      "1 2\n",
      "2 3\n"
     ]
    }
   ],
   "source": [
    "nums = [1,2,3]\n",
    "for i,value in enumerate(nums):\n",
    "\n",
    "    print(i,value)"
   ]
  },
  {
   "cell_type": "code",
   "execution_count": null,
   "metadata": {},
   "outputs": [],
   "source": []
  }
 ],
 "metadata": {
  "kernelspec": {
   "display_name": "base",
   "language": "python",
   "name": "python3"
  },
  "language_info": {
   "codemirror_mode": {
    "name": "ipython",
    "version": 3
   },
   "file_extension": ".py",
   "mimetype": "text/x-python",
   "name": "python",
   "nbconvert_exporter": "python",
   "pygments_lexer": "ipython3",
   "version": "3.9.7"
  },
  "orig_nbformat": 4
 },
 "nbformat": 4,
 "nbformat_minor": 2
}
