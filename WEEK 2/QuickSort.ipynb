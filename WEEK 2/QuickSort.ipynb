{
 "cells": [
  {
   "cell_type": "code",
   "execution_count": 5,
   "metadata": {},
   "outputs": [
    {
     "name": "stdout",
     "output_type": "stream",
     "text": [
      "[0, 1, 2, 3, 5, 7, 7, 8, 8, 9, 9]\n"
     ]
    }
   ],
   "source": [
    "def quickSort(arr , start , end):\n",
    "    #base case\n",
    "    if end <= start:\n",
    "        return \n",
    "    pivot = part(arr,start,end)\n",
    "    quickSort(arr,start,pivot-1 )\n",
    "    quickSort(arr,pivot+1,end)\n",
    "def part(arr , start , end):\n",
    "    pivot = arr[end]\n",
    "    i = start-1\n",
    "    for j in range(start,end):\n",
    "        if arr[j]<pivot:\n",
    "            i+=1\n",
    "            arr[i] , arr[j] = arr[j] , arr[i]\n",
    "    i+=1\n",
    "    arr[i] , arr[end] = arr[end],arr[i] \n",
    "    return i\n",
    "a = [8,9,7,5,3,1,7,9,0,2,8]\n",
    "quickSort(a,0,len(a)-1)\n",
    "print(a)\n",
    "\n"
   ]
  },
  {
   "cell_type": "code",
   "execution_count": 1,
   "metadata": {},
   "outputs": [
    {
     "name": "stdout",
     "output_type": "stream",
     "text": [
      "0\n",
      "1\n",
      "2\n",
      "3\n",
      "4\n",
      "5\n",
      "6\n",
      "7\n",
      "8\n",
      "9\n"
     ]
    }
   ],
   "source": [
    "for i in range(10):\n",
    "    print(i)"
   ]
  },
  {
   "cell_type": "code",
   "execution_count": 1,
   "metadata": {},
   "outputs": [
    {
     "data": {
      "text/plain": [
       "'('"
      ]
     },
     "execution_count": 1,
     "metadata": {},
     "output_type": "execute_result"
    }
   ],
   "source": [
    "map = {\")\":\"(\", \"]\":\"[\",\"}\":\"{\"}\n",
    "map[\")\"]"
   ]
  },
  {
   "cell_type": "code",
   "execution_count": null,
   "metadata": {},
   "outputs": [],
   "source": []
  }
 ],
 "metadata": {
  "kernelspec": {
   "display_name": "base",
   "language": "python",
   "name": "python3"
  },
  "language_info": {
   "codemirror_mode": {
    "name": "ipython",
    "version": 3
   },
   "file_extension": ".py",
   "mimetype": "text/x-python",
   "name": "python",
   "nbconvert_exporter": "python",
   "pygments_lexer": "ipython3",
   "version": "3.9.7"
  },
  "orig_nbformat": 4
 },
 "nbformat": 4,
 "nbformat_minor": 2
}
