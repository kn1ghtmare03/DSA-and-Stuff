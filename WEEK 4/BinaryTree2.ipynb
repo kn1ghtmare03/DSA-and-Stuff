{
 "cells": [
  {
   "cell_type": "code",
   "execution_count": null,
   "metadata": {},
   "outputs": [],
   "source": [
    "#node deletion \n",
    "#case 1 = delete node with no child :)\n",
    "#case 2 = delete node with a child :|\n",
    "#case 3 = deleting node with 2 children :( \n",
    "#___2 sub cases of 3rd cases = we can either move minimum from right subtree up or max from left subtree up to replace deleted node and then remove duplicates"
   ]
  },
  {
   "cell_type": "code",
   "execution_count": 13,
   "metadata": {},
   "outputs": [
    {
     "name": "stdout",
     "output_type": "stream",
     "text": [
      "Building tree with elements: [17, 4, 1, 20, 9, 23, 18, 34]\n",
      "[1, 4, 9, 17, 18, 20, 23, 34]\n",
      "[1, 4, 9, 17, 18, 20, 23]\n"
     ]
    }
   ],
   "source": [
    "class BinarySearchTreeNode:\n",
    "    def __init__(self,data):\n",
    "        self.data = data\n",
    "        self.right = None\n",
    "        self.left = None\n",
    "    def add_child(self , data):\n",
    "        if data == self.data:\n",
    "            return\n",
    "        if data < self.data:    #add in left subtree\n",
    "            if self.left:\n",
    "                self.left.add_child(data)\n",
    "            else:\n",
    "                self.left = BinarySearchTreeNode(data)\n",
    "        else:\n",
    "            if self.right:  #add data in rightsubtree\n",
    "                self.right.add_child(data)\n",
    "            else:\n",
    "                self.right = BinarySearchTreeNode(data)\n",
    "    def inorder_traversal(self):\n",
    "        elements = []\n",
    "        #going left\n",
    "        if self.left:\n",
    "            elements += self.left.inorder_traversal()\n",
    "        #visit base node\n",
    "        elements.append(self.data)\n",
    "\n",
    "        #going right\n",
    "        if self.right:\n",
    "            elements += self.right.inorder_traversal()\n",
    "        return elements\n",
    "    def search(self,val):\n",
    "        if val == self.data:\n",
    "            return True\n",
    "        if val < self.data:\n",
    "            if self.left:\n",
    "                return self.left.search(val)\n",
    "            else:\n",
    "                return False\n",
    "        if val > self.data:\n",
    "            if self.right:\n",
    "                return self.right.search(val)\n",
    "            else:\n",
    "                return False\n",
    "    def post_order_traversal(self):\n",
    "        elements = []\n",
    "        if self.left:\n",
    "            elements += self.left.post_order_traversal()\n",
    "        if self.right:\n",
    "            elements += self.right.post_order_traversal()\n",
    "\n",
    "        elements.append(self.data)\n",
    "\n",
    "        return elements\n",
    "\n",
    "    def pre_order_traversal(self):\n",
    "        elements = [self.data]\n",
    "        if self.left:\n",
    "            elements += self.left.pre_order_traversal()\n",
    "        if self.right:\n",
    "            elements += self.right.pre_order_traversal()\n",
    "\n",
    "        return elements\n",
    "\n",
    "    def find_max(self):\n",
    "        if self.right is None:\n",
    "            return self.data\n",
    "        return self.right.find_max()\n",
    "\n",
    "    def find_min(self):\n",
    "        if self.left is None:\n",
    "            return self.data\n",
    "        return self.left.find_min()\n",
    "\n",
    "    def calculate_sum(self):\n",
    "        left_sum = self.left.calculate_sum() if self.left else 0\n",
    "        right_sum = self.right.calculate_sum() if self.right else 0\n",
    "        return self.data + left_sum + right_sum\n",
    "        \n",
    "    def delete(self,val):\n",
    "        if val < self.data:\n",
    "            if self.left:\n",
    "                self.left = self.left.delete(val)\n",
    "        elif val > self.data:\n",
    "            if self.right:\n",
    "                self.right = self.right.delete(val)\n",
    "        else:\n",
    "            if self.left is None and self.right is None:\n",
    "                return None\n",
    "            if self.left is None:\n",
    "                return self.right\n",
    "            if self.right is None:\n",
    "                return self.left\n",
    "            min_val = self.right.find_min()\n",
    "            self.data = min_val\n",
    "            self.right = self.right.delete(min_val)\n",
    "            \n",
    "        return self\n",
    "\n",
    "\n",
    "\n",
    "\n",
    "def build_tree(elements):\n",
    "        print(\"Building tree with elements:\",elements)\n",
    "        root = BinarySearchTreeNode(elements[0])\n",
    "        for i in range(1,len(elements)):\n",
    "            root.add_child(elements[i])\n",
    "        return root\n",
    "\n",
    "if __name__ =='__main__':\n",
    "    numbers = [17,4,1,20,9,23,18,34]\n",
    "    numbers_tree = build_tree(numbers)\n",
    "    print(numbers_tree.inorder_traversal())\n",
    "    numbers_tree.delete(34)\n",
    "    print(numbers_tree.inorder_traversal())\n",
    "\n",
    "    \n"
   ]
  },
  {
   "cell_type": "code",
   "execution_count": 2,
   "metadata": {},
   "outputs": [
    {
     "name": "stdout",
     "output_type": "stream",
     "text": [
      "1\n",
      "1\n",
      "0\n"
     ]
    }
   ],
   "source": [
    "print(True*True)\n",
    "print(True+False)\n",
    "print(False*False)"
   ]
  },
  {
   "cell_type": "code",
   "execution_count": 4,
   "metadata": {},
   "outputs": [
    {
     "name": "stdout",
     "output_type": "stream",
     "text": [
      "False\n"
     ]
    }
   ],
   "source": [
    "a = []\n",
    "if a:\n",
    "    print(True)\n",
    "else:\n",
    "    print(False)"
   ]
  },
  {
   "cell_type": "code",
   "execution_count": null,
   "metadata": {},
   "outputs": [],
   "source": []
  }
 ],
 "metadata": {
  "kernelspec": {
   "display_name": "base",
   "language": "python",
   "name": "python3"
  },
  "language_info": {
   "codemirror_mode": {
    "name": "ipython",
    "version": 3
   },
   "file_extension": ".py",
   "mimetype": "text/x-python",
   "name": "python",
   "nbconvert_exporter": "python",
   "pygments_lexer": "ipython3",
   "version": "3.9.7"
  },
  "orig_nbformat": 4
 },
 "nbformat": 4,
 "nbformat_minor": 2
}
