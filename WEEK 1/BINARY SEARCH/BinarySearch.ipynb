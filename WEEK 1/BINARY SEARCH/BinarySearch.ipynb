{
 "cells": [
  {
   "cell_type": "code",
   "execution_count": 2,
   "metadata": {},
   "outputs": [
    {
     "data": {
      "text/plain": [
       "4"
      ]
     },
     "execution_count": 2,
     "metadata": {},
     "output_type": "execute_result"
    }
   ],
   "source": [
    "def search(target):\n",
    "    nums = [1,3,6,9,10,27]\n",
    "    l,r=0,len(nums)-1\n",
    "    while l<=r:\n",
    "        m = (l+r)//2\n",
    "        if nums[m] > target :\n",
    "            r = m-1\n",
    "        elif nums[m] < target:\n",
    "            l = m+1\n",
    "        else:\n",
    "            return m\n",
    "        \n",
    "    return -1\n",
    "search(10)\n",
    "    \n"
   ]
  },
  {
   "cell_type": "code",
   "execution_count": 3,
   "metadata": {},
   "outputs": [],
   "source": [
    "        \n",
    "def search(nums):\n",
    "    l =0 \n",
    "    r = len(nums)-1\n",
    "    pivot = nums[0]\n",
    "    while l<=r:\n",
    "\n",
    "        m = (l+r)//2\n",
    "           \n",
    "        if nums[m] < pivot :\n",
    "            r = m-1\n",
    "        elif nums[m] > pivot:\n",
    "            l = m+1\n",
    "        else:\n",
    "            pivot = nums[m]\n",
    "            return pivot\n",
    "search([9,10,27,1,3,6])\n",
    "\n",
    "        \n",
    "        \n",
    "\n",
    "                "
   ]
  },
  {
   "cell_type": "code",
   "execution_count": 4,
   "metadata": {},
   "outputs": [
    {
     "name": "stdout",
     "output_type": "stream",
     "text": [
      "0 8\n",
      "1 9\n",
      "2 3\n",
      "3 4\n",
      "4 5\n",
      "{8: 0, 9: 1, 3: 2, 4: 3, 5: 4}\n"
     ]
    }
   ],
   "source": [
    "nums = [8,9,3,4,5]\n",
    "seen = {}\n",
    "for i,n in enumerate(nums):\n",
    "    seen[n] = i\n",
    "    print(i,n)\n",
    "print(seen)\n"
   ]
  },
  {
   "cell_type": "code",
   "execution_count": 7,
   "metadata": {},
   "outputs": [
    {
     "name": "stdout",
     "output_type": "stream",
     "text": [
      "False\n"
     ]
    }
   ],
   "source": [
    "count = {}\n",
    "s=\"car\"\n",
    "t=\"cat\"\n",
    "\n",
    "\n",
    "if len(s)!=len(t):\n",
    "    print(False)\n",
    "else:\n",
    "    for i in range(len(s)):\n",
    "        count[s[i]] = 1 + count.get(s[i],0)\n",
    "        count[t[i]] = 1 - count.get(t[i],0)\n",
    "    if count.values() == [0]*len(s):\n",
    "        print(True)\n",
    "    else:\n",
    "        print(False)\n"
   ]
  },
  {
   "cell_type": "code",
   "execution_count": 13,
   "metadata": {},
   "outputs": [
    {
     "name": "stdout",
     "output_type": "stream",
     "text": [
      "y\n"
     ]
    }
   ],
   "source": [
    "a =[0,1,0]\n",
    "b= [0,1,0]\n",
    "if a == b:\n",
    "    print(\"y\")\n",
    "else:\n",
    "    print(\"no\")"
   ]
  },
  {
   "cell_type": "code",
   "execution_count": 16,
   "metadata": {},
   "outputs": [
    {
     "name": "stdout",
     "output_type": "stream",
     "text": [
      "[0, 0]\n"
     ]
    }
   ],
   "source": [
    "a= [0]*2\n",
    "print(a)"
   ]
  },
  {
   "cell_type": "code",
   "execution_count": null,
   "metadata": {},
   "outputs": [],
   "source": []
  }
 ],
 "metadata": {
  "kernelspec": {
   "display_name": "base",
   "language": "python",
   "name": "python3"
  },
  "language_info": {
   "codemirror_mode": {
    "name": "ipython",
    "version": 3
   },
   "file_extension": ".py",
   "mimetype": "text/x-python",
   "name": "python",
   "nbconvert_exporter": "python",
   "pygments_lexer": "ipython3",
   "version": "3.9.7"
  },
  "orig_nbformat": 4
 },
 "nbformat": 4,
 "nbformat_minor": 2
}
