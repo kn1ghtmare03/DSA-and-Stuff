{
 "cells": [
  {
   "cell_type": "code",
   "execution_count": 4,
   "metadata": {},
   "outputs": [
    {
     "name": "stdout",
     "output_type": "stream",
     "text": [
      "[[], ['a'], ['b'], ['a', 'b'], ['c'], ['a', 'c'], ['b', 'c'], ['a', 'b', 'c']]\n",
      "[]\n",
      "['a']\n",
      "['b']\n",
      "['a', 'b']\n",
      "['c']\n",
      "['a', 'c']\n",
      "['b', 'c']\n",
      "['a', 'b', 'c']\n"
     ]
    }
   ],
   "source": [
    "def powersubset(a):\n",
    "    if len(a) == 0:\n",
    "        return [[]]\n",
    "    i = a[0]\n",
    "    j = a[1:]\n",
    "    subsets = powersubset(j)\n",
    "\n",
    "    new_subsets = []\n",
    "    for subset in subsets:\n",
    "        new_subsets.append(subset)\n",
    "        new_subsets.append([i]+subset)\n",
    "    return new_subsets\n",
    "\n",
    "input_list = \"abc\"\n",
    "power_sets = powersubset(input_list)\n",
    "print(power_sets)\n",
    "for subset in power_sets:\n",
    "    print(subset)"
   ]
  },
  {
   "cell_type": "code",
   "execution_count": 1,
   "metadata": {},
   "outputs": [
    {
     "name": "stdout",
     "output_type": "stream",
     "text": [
      "[]\n",
      "[1]\n",
      "[2]\n",
      "[1, 2]\n",
      "[3]\n",
      "[1, 3]\n",
      "[2, 3]\n",
      "[1, 2, 3]\n"
     ]
    }
   ],
   "source": [
    "def find_power_sets(lst):\n",
    "    if len(lst) == 0:\n",
    "        return [[]]  # Return an empty set as the base case\n",
    "\n",
    "    element = lst[0]  # Take the first element\n",
    "    remaining_list = lst[1:]  # Take the remaining list\n",
    "\n",
    "    subsets = find_power_sets(remaining_list)  # Recursive call to find power sets of remaining list\n",
    "\n",
    "    # Create new subsets by including and excluding the first element\n",
    "    new_subsets = []\n",
    "    for subset in subsets:\n",
    "        new_subsets.append(subset)  # Exclude the first element\n",
    "        new_subsets.append([element] + subset)  # Include the first element\n",
    "\n",
    "    return new_subsets\n",
    "\n",
    "\n",
    "# Example usage\n",
    "input_list = [1, 2, 3]\n",
    "power_sets = find_power_sets(input_list)\n",
    "\n",
    "# Print the power sets\n",
    "for subset in power_sets:\n",
    "    print(subset)\n"
   ]
  },
  {
   "cell_type": "code",
   "execution_count": null,
   "metadata": {},
   "outputs": [],
   "source": []
  }
 ],
 "metadata": {
  "kernelspec": {
   "display_name": "base",
   "language": "python",
   "name": "python3"
  },
  "language_info": {
   "codemirror_mode": {
    "name": "ipython",
    "version": 3
   },
   "file_extension": ".py",
   "mimetype": "text/x-python",
   "name": "python",
   "nbconvert_exporter": "python",
   "pygments_lexer": "ipython3",
   "version": "3.9.7"
  },
  "orig_nbformat": 4
 },
 "nbformat": 4,
 "nbformat_minor": 2
}
