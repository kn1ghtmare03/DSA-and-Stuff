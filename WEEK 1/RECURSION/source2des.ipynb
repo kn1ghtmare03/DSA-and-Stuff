{
 "cells": [
  {
   "cell_type": "code",
   "execution_count": 5,
   "metadata": {},
   "outputs": [
    {
     "name": "stdout",
     "output_type": "stream",
     "text": [
      "Enter the value of m & n for m*n matrix\n",
      "Enter the Origin Co-ordinates\n",
      "Enter the Destination Co-ordinates\n",
      "Ways to reach from Origin to Destination are as follows:\n",
      "ANSWER -> RRUU\n",
      "ANSWER -> RURU\n",
      "ANSWER -> RUUR\n",
      "ANSWER -> URRU\n",
      "ANSWER -> URUR\n",
      "ANSWER -> UURR\n"
     ]
    }
   ],
   "source": [
    "visited = {}\n",
    "\n",
    "def safeToGo(a, b, m, n):\n",
    "    if 0 <= a < m and 0 <= b < n and visited.get((a, b), False) == False:\n",
    "        return True\n",
    "    return False\n",
    "\n",
    "def printWays(m, n, src_x, src_y, dest_x, dest_y, output):\n",
    "    visited[(src_x, src_y)] = True\n",
    "    \n",
    "    if src_x == dest_x and src_y == dest_y:\n",
    "        print(\"ANSWER ->\", output)\n",
    "        visited[(src_x, src_y)] = False\n",
    "        return\n",
    "    \n",
    "    if safeToGo(src_x + 1, src_y, m, n):\n",
    "        output += 'R'\n",
    "        printWays(m, n, src_x + 1, src_y, dest_x, dest_y, output)\n",
    "        output = output[:-1]\n",
    "    \n",
    "    if safeToGo(src_x, src_y + 1, m, n):\n",
    "        output += 'U'\n",
    "        printWays(m, n, src_x, src_y + 1, dest_x, dest_y, output)\n",
    "        output = output[:-1]\n",
    "    \n",
    "    visited[(src_x, src_y)] = False\n",
    "\n",
    "print(\"Enter the value of m & n for m*n matrix\")\n",
    "m, n = map(int, input().split())\n",
    "print(\"Enter the Origin Co-ordinates\")\n",
    "src_x, src_y = map(int, input().split())\n",
    "print(\"Enter the Destination Co-ordinates\")\n",
    "dest_x, dest_y = map(int, input().split())\n",
    "output = \"\"\n",
    "print(\"Ways to reach from Origin to Destination are as follows:\")\n",
    "printWays(m, n, src_x, src_y, dest_x, dest_y, output)\n"
   ]
  },
  {
   "cell_type": "code",
   "execution_count": 6,
   "metadata": {},
   "outputs": [
    {
     "name": "stdout",
     "output_type": "stream",
     "text": [
      "[1]\n"
     ]
    }
   ],
   "source": [
    "a = []\n",
    "a = a + [1]\n",
    "print(a)"
   ]
  },
  {
   "cell_type": "code",
   "execution_count": null,
   "metadata": {},
   "outputs": [],
   "source": []
  }
 ],
 "metadata": {
  "kernelspec": {
   "display_name": "base",
   "language": "python",
   "name": "python3"
  },
  "language_info": {
   "codemirror_mode": {
    "name": "ipython",
    "version": 3
   },
   "file_extension": ".py",
   "mimetype": "text/x-python",
   "name": "python",
   "nbconvert_exporter": "python",
   "pygments_lexer": "ipython3",
   "version": "3.9.7"
  },
  "orig_nbformat": 4
 },
 "nbformat": 4,
 "nbformat_minor": 2
}
