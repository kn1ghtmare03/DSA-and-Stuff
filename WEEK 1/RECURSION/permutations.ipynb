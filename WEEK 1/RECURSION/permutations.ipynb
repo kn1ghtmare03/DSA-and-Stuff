{
 "cells": [
  {
   "cell_type": "code",
   "execution_count": 1,
   "metadata": {},
   "outputs": [
    {
     "name": "stdout",
     "output_type": "stream",
     "text": [
      "r,a,t,s\n",
      "r,a,s,t\n",
      "r,t,a,s\n",
      "r,t,s,a\n",
      "r,s,t,a\n",
      "r,s,a,t\n",
      "a,r,t,s\n",
      "a,r,s,t\n",
      "a,t,r,s\n",
      "a,t,s,r\n",
      "a,s,t,r\n",
      "a,s,r,t\n",
      "t,a,r,s\n",
      "t,a,s,r\n",
      "t,r,a,s\n",
      "t,r,s,a\n",
      "t,s,r,a\n",
      "t,s,a,r\n",
      "s,a,t,r\n",
      "s,a,r,t\n",
      "s,t,a,r\n",
      "s,t,r,a\n",
      "s,r,t,a\n",
      "s,r,a,t\n"
     ]
    }
   ],
   "source": [
    "def perm(str,index=0):\n",
    "    str=list(str)\n",
    "    if index>= len(str):\n",
    "        print(','.join(str))\n",
    "    \n",
    "    for i in range(index,len(str)):\n",
    "        str=list(str)\n",
    "        str[index],str[i] = str[i],str[index]\n",
    "        perm(str,index+1)\n",
    "        str[index],str[i] = str[i],str[index]#second swap is to make it return to its original sate\n",
    "perm(\"rats\")\n"
   ]
  },
  {
   "cell_type": "code",
   "execution_count": null,
   "metadata": {},
   "outputs": [],
   "source": []
  }
 ],
 "metadata": {
  "kernelspec": {
   "display_name": "base",
   "language": "python",
   "name": "python3"
  },
  "language_info": {
   "codemirror_mode": {
    "name": "ipython",
    "version": 3
   },
   "file_extension": ".py",
   "mimetype": "text/x-python",
   "name": "python",
   "nbconvert_exporter": "python",
   "pygments_lexer": "ipython3",
   "version": "3.9.7"
  },
  "orig_nbformat": 4
 },
 "nbformat": 4,
 "nbformat_minor": 2
}
